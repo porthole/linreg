{
 "cells": [
  {
   "cell_type": "markdown",
   "metadata": {
    "slideshow": {
     "slide_type": "slide"
    }
   },
   "source": [
    "Previously, we covered: \n",
    "- Computational programming with Python+NumPy, \n",
    "- Visualization with matplotlib, and \n",
    "- Machine learning with SciKit \n",
    "    - Feature Engineering, Model Validation, Supervised Learning\n",
    "\n"
   ]
  },
  {
   "cell_type": "markdown",
   "metadata": {
    "slideshow": {
     "slide_type": "slide"
    }
   },
   "source": [
    "# Digging Deeper: Linear Regression\n",
    "\n",
    "https://flic.kr/p/4uedXX\n",
    "\n",
    "Objectives\n",
    "- Cost functions\n",
    "- Hypothesis functions\n",
    "- Implement our LR algoirthm"
   ]
  },
  {
   "cell_type": "markdown",
   "metadata": {
    "slideshow": {
     "slide_type": "slide"
    }
   },
   "source": [
    "### Data Input\n",
    "Generally a **structured** array of real-numbers:\n",
    "- $ x \\in {\\rm I\\!R}^m$\n",
    "\n",
    "### Data Output \n",
    "Vector or real numbers:\n",
    "- $ y \\in {\\rm I\\!R}^1$\n",
    "\n",
    "$x$ and $y$ should both have the same length: $n$. <br>\n",
    "$x$ might have multiple columns representing multiple features: $m$.\n",
    "\n",
    "For instance, for the iris dataset, we had 4 features and 150 data points: $m=4$ and $n=150$"
   ]
  },
  {
   "cell_type": "markdown",
   "metadata": {
    "slideshow": {
     "slide_type": "slide"
    }
   },
   "source": [
    "### Objective\n",
    "We are trying to find $y = h(x)$ where $y_i \\approx h(x_i)$ where $i$ is a training example. \n",
    "\n",
    "$h(x)$ is called the **hypothesis function**. \n",
    "\n",
    "Different ML algos have different **$h$ models**. "
   ]
  },
  {
   "cell_type": "markdown",
   "metadata": {},
   "source": [
    "## Overview\n",
    "\n",
    "hypothessis, cost, linReg: 1d, nD"
   ]
  },
  {
   "cell_type": "markdown",
   "metadata": {
    "slideshow": {
     "slide_type": "slide"
    }
   },
   "source": [
    "### Regression output\n",
    "$h(x) = \\sum_{i=0}^n w_i x_i + b$\n",
    "\n",
    "This yields a **line** that best fits our data. \n",
    "\n"
   ]
  },
  {
   "cell_type": "markdown",
   "metadata": {
    "slideshow": {
     "slide_type": "slide"
    }
   },
   "source": [
    "Let's start with the built-in models and then build our own. \n",
    "\n",
    "Dataset: Boston housing prices. "
   ]
  },
  {
   "cell_type": "code",
   "execution_count": 22,
   "metadata": {
    "slideshow": {
     "slide_type": "slide"
    }
   },
   "outputs": [],
   "source": [
    "%matplotlib inline\n",
    "from sklearn import datasets\n",
    "import numpy as np\n",
    "import matplotlib.pyplot as plt"
   ]
  },
  {
   "cell_type": "code",
   "execution_count": 23,
   "metadata": {
    "slideshow": {
     "slide_type": "slide"
    }
   },
   "outputs": [],
   "source": [
    "from sklearn.datasets import load_boston\n",
    "#Boston housing prices\n",
    "boston = load_boston()"
   ]
  },
  {
   "cell_type": "code",
   "execution_count": 24,
   "metadata": {
    "scrolled": true,
    "slideshow": {
     "slide_type": "slide"
    }
   },
   "outputs": [
    {
     "name": "stdout",
     "output_type": "stream",
     "text": [
      "Boston House Prices dataset\n",
      "===========================\n",
      "\n",
      "Notes\n",
      "------\n",
      "Data Set Characteristics:  \n",
      "\n",
      "    :Number of Instances: 506 \n",
      "\n",
      "    :Number of Attributes: 13 numeric/categorical predictive\n",
      "    \n",
      "    :Median Value (attribute 14) is usually the target\n",
      "\n",
      "    :Attribute Information (in order):\n",
      "        - CRIM     per capita crime rate by town\n",
      "        - ZN       proportion of residential land zoned for lots over 25,000 sq.ft.\n",
      "        - INDUS    proportion of non-retail business acres per town\n",
      "        - CHAS     Charles River dummy variable (= 1 if tract bounds river; 0 otherwise)\n",
      "        - NOX      nitric oxides concentration (parts per 10 million)\n",
      "        - RM       average number of rooms per dwelling\n",
      "        - AGE      proportion of owner-occupied units built prior to 1940\n",
      "        - DIS      weighted distances to five Boston employment centres\n",
      "        - RAD      index of accessibility to radial highways\n",
      "        - TAX      full-value property-tax rate per $10,000\n",
      "        - PTRATIO  pupil-teacher ratio by town\n",
      "        - B        1000(Bk - 0.63)^2 where Bk is the proportion of blacks by town\n",
      "        - LSTAT    % lower status of the population\n",
      "        - MEDV     Median value of owner-occupied homes in $1000's\n",
      "\n",
      "    :Missing Attribute Values: None\n",
      "\n",
      "    :Creator: Harrison, D. and Rubinfeld, D.L.\n",
      "\n",
      "This is a copy of UCI ML housing dataset.\n",
      "http://archive.ics.uci.edu/ml/datasets/Housing\n",
      "\n",
      "\n",
      "This dataset was taken from the StatLib library which is maintained at Carnegie Mellon University.\n",
      "\n",
      "The Boston house-price data of Harrison, D. and Rubinfeld, D.L. 'Hedonic\n",
      "prices and the demand for clean air', J. Environ. Economics & Management,\n",
      "vol.5, 81-102, 1978.   Used in Belsley, Kuh & Welsch, 'Regression diagnostics\n",
      "...', Wiley, 1980.   N.B. Various transformations are used in the table on\n",
      "pages 244-261 of the latter.\n",
      "\n",
      "The Boston house-price data has been used in many machine learning papers that address regression\n",
      "problems.   \n",
      "     \n",
      "**References**\n",
      "\n",
      "   - Belsley, Kuh & Welsch, 'Regression diagnostics: Identifying Influential Data and Sources of Collinearity', Wiley, 1980. 244-261.\n",
      "   - Quinlan,R. (1993). Combining Instance-Based and Model-Based Learning. In Proceedings on the Tenth International Conference of Machine Learning, 236-243, University of Massachusetts, Amherst. Morgan Kaufmann.\n",
      "   - many more! (see http://archive.ics.uci.edu/ml/datasets/Housing)\n",
      "\n"
     ]
    }
   ],
   "source": [
    "#info\n",
    "print(boston.DESCR)"
   ]
  },
  {
   "cell_type": "code",
   "execution_count": 29,
   "metadata": {
    "slideshow": {
     "slide_type": "slide"
    }
   },
   "outputs": [
    {
     "name": "stdout",
     "output_type": "stream",
     "text": [
      "dict_keys(['data', 'target', 'feature_names', 'DESCR'])\n",
      "(506, 13)\n",
      "['CRIM' 'ZN' 'INDUS' 'CHAS' 'NOX' 'RM' 'AGE' 'DIS' 'RAD' 'TAX' 'PTRATIO'\n",
      " 'B' 'LSTAT']\n"
     ]
    },
    {
     "data": {
      "text/plain": [
       "(506,)"
      ]
     },
     "execution_count": 29,
     "metadata": {},
     "output_type": "execute_result"
    }
   ],
   "source": [
    "#Format: Dictionary \n",
    "print(boston.keys())\n",
    "#Size it up\n",
    "print(boston.data.shape)\n",
    "#What are the 13 features?\n",
    "print(boston.feature_names)\n",
    "\n",
    "boston.target.shape\n"
   ]
  },
  {
   "cell_type": "code",
   "execution_count": 30,
   "metadata": {
    "slideshow": {
     "slide_type": "slide"
    }
   },
   "outputs": [
    {
     "name": "stdout",
     "output_type": "stream",
     "text": [
      "(506, 13) (506,)\n"
     ]
    }
   ],
   "source": [
    "X = boston.data\n",
    "y = boston.target\n",
    "print(X.shape, y.shape)\n",
    "\n",
    "Xh = X\n",
    "yh = y"
   ]
  },
  {
   "cell_type": "code",
   "execution_count": 31,
   "metadata": {
    "slideshow": {
     "slide_type": "slide"
    }
   },
   "outputs": [
    {
     "name": "stdout",
     "output_type": "stream",
     "text": [
      "(379, 13) (379,)\n"
     ]
    }
   ],
   "source": [
    "from sklearn.model_selection import train_test_split\n",
    "Xtrain, Xtest, ytrain, ytest = train_test_split(X, y,\n",
    "                                                random_state=42)\n",
    "\n",
    "print(Xtrain.shape, ytrain.shape)"
   ]
  },
  {
   "cell_type": "markdown",
   "metadata": {
    "slideshow": {
     "slide_type": "slide"
    }
   },
   "source": [
    "## Exercise 1\n",
    "\n",
    "### SciKit Implementation\n",
    "\n",
    "Use the sklearn LinearRegression() to:\n",
    "- fit a model on train data\n",
    "- test on model\n",
    "- measure performance (MSE)\n",
    "- plot true vs predicted prices"
   ]
  },
  {
   "cell_type": "code",
   "execution_count": null,
   "metadata": {},
   "outputs": [],
   "source": [
    "from sklearn.linear_model import LinearRegression\n",
    "from sklearn.metrics import mean_squared_error\n",
    "\n"
   ]
  },
  {
   "cell_type": "markdown",
   "metadata": {
    "slideshow": {
     "slide_type": "slide"
    }
   },
   "source": [
    "## Solution"
   ]
  },
  {
   "cell_type": "code",
   "execution_count": null,
   "metadata": {
    "slideshow": {
     "slide_type": "slide"
    }
   },
   "outputs": [],
   "source": [
    "#To see the solution, load or open the following file:\n",
    "# %load ML_lr_1.py\n",
    "\n",
    "# %%writefile ML_lr_1.py\n"
   ]
  },
  {
   "cell_type": "code",
   "execution_count": 35,
   "metadata": {
    "slideshow": {
     "slide_type": "slide"
    }
   },
   "outputs": [
    {
     "name": "stdout",
     "output_type": "stream",
     "text": [
      "MSE:  26.2677404865\n"
     ]
    },
    {
     "data": {
      "text/plain": [
       "<matplotlib.text.Text at 0x11bd31710>"
      ]
     },
     "execution_count": 35,
     "metadata": {},
     "output_type": "execute_result"
    },
    {
     "data": {
      "image/png": "[encoded data removed]",
      "text/plain": [
       "<matplotlib.figure.Figure at 0x11bbe6240>"
      ]
     },
     "metadata": {},
     "output_type": "display_data"
    }
   ],
   "source": [
    "# %%writefile ML_lr_1.py\n",
    "\n",
    "from sklearn.linear_model import LinearRegression\n",
    "from sklearn.metrics import mean_squared_error\n",
    "\n",
    "model = LinearRegression(fit_intercept=False)\n",
    "model.fit(Xtrain, ytrain)\n",
    "y_model = model.predict(Xtest)\n",
    "\n",
    "#Note: if error: you may need np.asarray(...,dtype=np.float64)\n",
    "\n",
    "#3. Test it on test data\n",
    "#for classificaiton\n",
    "# from sklearn.metrics import accuracy_score\n",
    "# accuracy_score(ytest, y_model)\n",
    "#for regression\n",
    "mse = mean_squared_error(ytest, y_model)\n",
    "print(\"MSE: \", mse)\n",
    "\n",
    "#compare labels\n",
    "plt.scatter(ytest, y_model)\n",
    "plt.xlabel(\"Truth\")\n",
    "plt.ylabel(\"Predicted\")\n",
    "plt.title(\"Boston Housing True vs Predicted prices\")"
   ]
  },
  {
   "cell_type": "code",
   "execution_count": 48,
   "metadata": {
    "slideshow": {
     "slide_type": "slide"
    }
   },
   "outputs": [
    {
     "name": "stdout",
     "output_type": "stream",
     "text": [
      "Model intercept: 0.0\n",
      "Model slope:     [-0.11577021  0.03417885  0.04365068  2.73433869 -4.14661402  6.07025074\n",
      " -0.0138361  -0.96917437  0.1368985  -0.00731621 -0.46536205  0.01781281\n",
      " -0.44042933]\n",
      "['CRIM' 'ZN' 'INDUS' 'CHAS' 'NOX' 'RM' 'AGE' 'DIS' 'RAD' 'TAX' 'PTRATIO'\n",
      " 'B' 'LSTAT']\n"
     ]
    }
   ],
   "source": [
    "# Model:\n",
    "print(\"Model intercept:\", model.intercept_)\n",
    "print(\"Model slope:    \", model.coef_)\n",
    "\n",
    "#y = wx + b\n",
    "#slope: a, intercept: b \n",
    "print(boston.feature_names)\n"
   ]
  },
  {
   "cell_type": "markdown",
   "metadata": {
    "slideshow": {
     "slide_type": "slide"
    }
   },
   "source": [
    "## But how to find $w$ and $b$? \n",
    "\n",
    "We need the find the set of params that will **minimize the error between the line and the output**. "
   ]
  },
  {
   "cell_type": "markdown",
   "metadata": {
    "slideshow": {
     "slide_type": "slide"
    }
   },
   "source": [
    "### First, we quantify the error\n",
    "\n",
    "We need to quantify the difference between our **linear estimate, $h(x)$, and the labels, $f(x)$**."
   ]
  },
  {
   "cell_type": "markdown",
   "metadata": {
    "slideshow": {
     "slide_type": "fragment"
    }
   },
   "source": [
    "For this algorithm, we will use squared error:\n",
    "\n",
    "Calculate the **squared difference between the expected output f(x) and the estimate h(x)**:\n",
    "\n",
    "$E_l = (f(x) - h(x))^2$"
   ]
  },
  {
   "cell_type": "markdown",
   "metadata": {
    "slideshow": {
     "slide_type": "slide"
    }
   },
   "source": [
    "or for single dimensional case, per-element:\n",
    "\n",
    "$E_l = \\sum_{i=0}^n (y_i - (wx_i + b))^2$\n",
    "<br>  \n",
    "$E_l = \\sum_{i=0}^n (y_i - wx_i - b)^2$"
   ]
  },
  {
   "cell_type": "markdown",
   "metadata": {
    "slideshow": {
     "slide_type": "slide"
    }
   },
   "source": [
    "### How can we minimize the error?\n",
    "What is our favorite operation from Calculus that will allow us to find a minima? \n",
    "\n",
    "We set __________ of $E_l$ to 0. "
   ]
  },
  {
   "cell_type": "markdown",
   "metadata": {
    "slideshow": {
     "slide_type": "slide"
    }
   },
   "source": [
    "## Cost function\n",
    "\n",
    "Most of the learning algorithms are differ by their **cost or hypothesis function design**. \n",
    "\n",
    "If we look at their cost funcitons, we can understand what they are trying to achieve and how. \n",
    "\n",
    "They may also be called objective functions or loss functions. "
   ]
  },
  {
   "cell_type": "markdown",
   "metadata": {
    "slideshow": {
     "slide_type": "slide"
    }
   },
   "source": [
    "Cost functions are generally represented via **$J(.)$**. \n",
    "\n",
    "$J$ represents the cost function and $.$ represents the parameter that we will we **search over among the hypotheses to minimize the error**. \n",
    "\n",
    "For our case, $E_l$ is our cost function and it represents the amount of error generated by our current prediction of y. "
   ]
  },
  {
   "cell_type": "markdown",
   "metadata": {
    "slideshow": {
     "slide_type": "slide"
    }
   },
   "source": [
    "### Minimizing our cost function\n",
    "\n",
    "1D case (single feature): \n",
    "\n",
    "Since we have a cost function and we know how to min a function:\n",
    "\n",
    "$E_l = \\sum_{i=0}^n (y_i - wx_i - b)^2$\n",
    "\n",
    "How can we differentiate $E_l(w,b)$?"
   ]
  },
  {
   "cell_type": "markdown",
   "metadata": {
    "slideshow": {
     "slide_type": "slide"
    }
   },
   "source": [
    "We need the **chain rule**. \n",
    "\n",
    "Examples from Khan academy:\n",
    "https://www.khanacademy.org/math/ap-calculus-ab/ab-differentiation-2-new/ab-3-1a/a/chain-rule-review\n",
    "\n",
    "Note: Multivarate representation of this rule from Calc 2 is more appripriate for this class. But, I am keeping it CS Freshman friendly.\n",
    "\n",
    "$\\frac{d}{dx} (f(g(x)) = f'\\big(g(x)\\big) g'(x) $\n",
    "\n",
    "Ex1: $(5-6x)^5$\n",
    "\n",
    "Ex2: $\\sin(2x^3-4x)$"
   ]
  },
  {
   "cell_type": "markdown",
   "metadata": {
    "slideshow": {
     "slide_type": "slide"
    }
   },
   "source": [
    "### Exercise\n",
    "Compute the partial derivative of $J$ wrt to $w$:\n",
    "\n",
    "$\\frac{d}{dw} (y - wx)^2 $"
   ]
  },
  {
   "cell_type": "markdown",
   "metadata": {
    "slideshow": {
     "slide_type": "slide"
    }
   },
   "source": [
    "### Solution\n",
    "\n",
    "fill..."
   ]
  },
  {
   "cell_type": "markdown",
   "metadata": {
    "slideshow": {
     "slide_type": "slide"
    }
   },
   "source": [
    "Since we have two sets of params to optimize, we need to set the partial derivative of $J$ to $0$ for both variables:\n",
    "\n",
    "$J(w,b) = \\sum_{i=0}^n (y_i - wx_i - b)^2$\n",
    "\n",
    "$\\begin{align}\n",
    "\\frac{dJ}{dw} &= \\sum_{i=0}^n -2x_i(y_i-wx_i-b) \\\\\n",
    "\\frac{dJ}{db} &= \\sum_{i=0}^n -2(y_i-wx_i-b) \\\\\n",
    "\\end{align}$"
   ]
  },
  {
   "cell_type": "markdown",
   "metadata": {
    "slideshow": {
     "slide_type": "slide"
    }
   },
   "source": [
    "We then set each equation to 0 to find their min:"
   ]
  },
  {
   "cell_type": "markdown",
   "metadata": {
    "slideshow": {
     "slide_type": "slide"
    }
   },
   "source": [
    "$\\begin{align}\n",
    "\\frac{dJ}{dw} &= \\sum_{i=0}^n -2x_i(y_i-wx_i-b) \\\\\n",
    "&= -\\sum_{i=0}^n x_iy_i  + w\\sum_{i=0}^n x^2_i + b\\sum_{i=0}^n x_i\\\\\n",
    " &= 0 \\\\\n",
    "\\end{align}$"
   ]
  },
  {
   "cell_type": "markdown",
   "metadata": {
    "slideshow": {
     "slide_type": "slide"
    }
   },
   "source": [
    "$\\begin{align}\n",
    "\\frac{dJ}{db} &= \\sum_{i=0}^n -2(y_i-w x_i-b) \\\\\n",
    "&= -\\sum_{i=0}^n y_i  + w\\sum_{i=0}^n x_i + b n\\\\\n",
    " &= 0 \\\\\n",
    "\\end{align}$\n",
    "\n",
    "This is a set of linear equations. We can solve them for $w, b$ to minimize the MSE"
   ]
  },
  {
   "cell_type": "markdown",
   "metadata": {
    "slideshow": {
     "slide_type": "slide"
    }
   },
   "source": [
    "### Solution to single feature linear regression\n",
    "\n",
    "We have **2 unkowns** and **2 equations**. \n",
    "\n",
    "Closed form solution for the above equations are:\n",
    "\n",
    "$\n",
    "w = \\frac{\\sum_{i=0}^n (x_i - x_m) (y_i - y_m)}{\\sum_{i=0}^n (x_i - x_m)^2} $\n",
    "\n",
    "$b = y_m - wx_m$\n",
    "\n",
    "where $x_m$ and $y_m$ are the means of the $x$ and $y$ vectors, respectively. "
   ]
  },
  {
   "cell_type": "markdown",
   "metadata": {
    "slideshow": {
     "slide_type": "slide"
    }
   },
   "source": [
    "## Exercise \n",
    "\n",
    "Can you rewrite the equation for $w$ using statistical terms?\n",
    " "
   ]
  },
  {
   "cell_type": "markdown",
   "metadata": {
    "slideshow": {
     "slide_type": "slide"
    }
   },
   "source": [
    "## Exercise 2\n",
    "\n",
    "Implement the single-feature linear regresion to fit the best fit for $xl, yl$ as defined below. \n",
    "\n",
    "Do not estimate your error, but plot the resulting line."
   ]
  },
  {
   "cell_type": "code",
   "execution_count": 41,
   "metadata": {
    "slideshow": {
     "slide_type": "slide"
    }
   },
   "outputs": [
    {
     "data": {
      "image/png": "[encoded data removed]",
      "text/plain": [
       "<matplotlib.figure.Figure at 0x11bae94a8>"
      ]
     },
     "metadata": {},
     "output_type": "display_data"
    }
   ],
   "source": [
    "#Example 1D dataset\n",
    "rng = np.random.RandomState(42) #seed\n",
    "xl = 10 * rng.rand(50) # x with noise\n",
    "yl = 2 * xl - 5 + rng.randn(50) # y is a linear func of x + noise\n",
    "plt.scatter(xl, yl);"
   ]
  },
  {
   "cell_type": "code",
   "execution_count": 42,
   "metadata": {
    "slideshow": {
     "slide_type": "slide"
    }
   },
   "outputs": [],
   "source": [
    "#Solve for w and b using the derivation above \n",
    "# and plot the result of a linear fit"
   ]
  },
  {
   "cell_type": "markdown",
   "metadata": {
    "slideshow": {
     "slide_type": "slide"
    }
   },
   "source": [
    "## Solution"
   ]
  },
  {
   "cell_type": "code",
   "execution_count": null,
   "metadata": {},
   "outputs": [],
   "source": [
    "#To see the solution, load or open the following file:\n",
    "# %load ML_lr_2.py\n",
    "\n",
    "# %%writefile ML_lr_2.py\n"
   ]
  },
  {
   "cell_type": "code",
   "execution_count": 43,
   "metadata": {
    "slideshow": {
     "slide_type": "slide"
    }
   },
   "outputs": [
    {
     "name": "stdout",
     "output_type": "stream",
     "text": [
      "Slope:  1.97765660039 -4.90331072553\n"
     ]
    },
    {
     "data": {
      "text/plain": [
       "<matplotlib.text.Text at 0x11c214550>"
      ]
     },
     "execution_count": 43,
     "metadata": {},
     "output_type": "execute_result"
    },
    {
     "data": {
      "image/png": "[encoded data removed]",
      "text/plain": [
       "<matplotlib.figure.Figure at 0x11bda56d8>"
      ]
     },
     "metadata": {},
     "output_type": "display_data"
    }
   ],
   "source": [
    "# %%writefile ML_lr_2.py\n",
    "\n",
    "X = xl\n",
    "y = yl\n",
    "\n",
    "xm = np.mean(X)\n",
    "ym = np.mean(y)\n",
    "\n",
    "w = np.sum((X - xm)*(y-ym))/np.sum((X-xm)**2)\n",
    "b = ym - w*xm\n",
    "\n",
    "print(\"Slope: \",w,b)\n",
    "\n",
    "from matplotlib.colors import ListedColormap\n",
    "\n",
    "plt.figure(figsize=(20,10))\n",
    "# Plot also the training points\n",
    "plt.scatter(X, y, edgecolor='k', s=80)\n",
    "\n",
    "Xt = np.arange(np.min(X), np.max(X), 1)\n",
    "yt = (w * Xt) + b\n",
    "plt.plot(Xt, yt, c='r')\n",
    "\n",
    "plt.xlabel(\"xl\")\n",
    "plt.ylabel(\"yl\")\n",
    "plt.title(\"Data and linear fit\")"
   ]
  },
  {
   "cell_type": "markdown",
   "metadata": {
    "slideshow": {
     "slide_type": "slide"
    }
   },
   "source": [
    "### General solution for linear regression\n",
    "\n",
    "If $x$ has multiple features, we can generalize our solution and take advantage of the matrix representation:\n",
    "\n",
    "$J = \\frac{1}{n}\\left\\Vert Xw - y  \\right\\Vert^2 $\n",
    "\n",
    "where $X$ is n by m and $y$ is n by 1."
   ]
  },
  {
   "cell_type": "markdown",
   "metadata": {
    "slideshow": {
     "slide_type": "slide"
    }
   },
   "source": [
    "We take the partial derivative of $J$ wrt to $w$:\n",
    "\n",
    "$J = \\frac{1}{n}\\left\\Vert Xw - y  \\right\\Vert^2 $\n",
    "\n",
    "$\\nabla J(w) = \\frac{2}{n}X^T(Xw - y)$"
   ]
  },
  {
   "cell_type": "markdown",
   "metadata": {
    "slideshow": {
     "slide_type": "slide"
    }
   },
   "source": [
    "We then set it to 0 \n",
    "\n",
    "$\\nabla J(w) = \\frac{2}{n}X^T(Xw - y) = 0 $ \n",
    "\n",
    "and drop the constants:\n",
    "\n",
    "$X^T Xw = X^Ty$"
   ]
  },
  {
   "cell_type": "markdown",
   "metadata": {
    "slideshow": {
     "slide_type": "slide"
    }
   },
   "source": [
    "Remember your linear algebra and solve for w:\n",
    "\n",
    "$w = X^py$\n",
    "\n",
    "where $X^p$ is the pseudo-inverse and given that each column of features is linearly independent. "
   ]
  },
  {
   "cell_type": "markdown",
   "metadata": {
    "slideshow": {
     "slide_type": "slide"
    }
   },
   "source": [
    "## Exercise 3\n",
    "\n",
    "### Linear Regression\n",
    "\n",
    "Implement the linear regression as solved for above to find the coefficients to the housing problem. \n",
    "\n",
    "Predict on test data. \n",
    "\n",
    "Does your error match the scikit model?"
   ]
  },
  {
   "cell_type": "code",
   "execution_count": 44,
   "metadata": {},
   "outputs": [],
   "source": [
    "#Calculate w for the Boston housing prices using the general solution for linear regression provided above\n",
    "#Predict on test data and plot the true vs predicted prices  \n",
    "\n",
    "# Hint: np.linalg.pinv"
   ]
  },
  {
   "cell_type": "markdown",
   "metadata": {
    "slideshow": {
     "slide_type": "slide"
    }
   },
   "source": [
    "## Solution"
   ]
  },
  {
   "cell_type": "code",
   "execution_count": null,
   "metadata": {
    "slideshow": {
     "slide_type": "slide"
    }
   },
   "outputs": [],
   "source": [
    "#To see the solution, load or open the following file:\n",
    "# %load ML_lr_3.py\n",
    "\n",
    "# %%writefile ML_lr_3.py\n",
    "\n"
   ]
  },
  {
   "cell_type": "code",
   "execution_count": 49,
   "metadata": {
    "scrolled": true,
    "slideshow": {
     "slide_type": "slide"
    }
   },
   "outputs": [
    {
     "name": "stdout",
     "output_type": "stream",
     "text": [
      "Our slope:  [-0.11577021  0.03417885  0.04365068  2.73433869 -4.14661402  6.07025074\n",
      " -0.0138361  -0.96917437  0.1368985  -0.00731621 -0.46536205  0.01781281\n",
      " -0.44042933]\n",
      "Scikit model slope:     [-0.11577021  0.03417885  0.04365068  2.73433869 -4.14661402  6.07025074\n",
      " -0.0138361  -0.96917437  0.1368985  -0.00731621 -0.46536205  0.01781281\n",
      " -0.44042933]\n",
      "(127,) (127, 13) (13,)\n",
      "*** MSE:  26.2677404865\n"
     ]
    },
    {
     "data": {
      "text/plain": [
       "<matplotlib.text.Text at 0x11d55c128>"
      ]
     },
     "execution_count": 49,
     "metadata": {},
     "output_type": "execute_result"
    },
    {
     "data": {
      "image/png": "[encoded data removed]",
      "text/plain": [
       "<matplotlib.figure.Figure at 0x11c0b3eb8>"
      ]
     },
     "metadata": {},
     "output_type": "display_data"
    }
   ],
   "source": [
    "# %%writefile ML_lr_3.py\n",
    "\n",
    "X= Xtrain\n",
    "y = ytrain\n",
    "#train\n",
    "w = np.dot(np.linalg.pinv(X),y)\n",
    "print(\"Our slope: \", w)\n",
    "print(\"Scikit model slope:    \", model.coef_)\n",
    "\n",
    "#predict\n",
    "y_model = Xtest @ w\n",
    "# y_model = np.dot(Xtest, w)\n",
    "\n",
    "print(y_model.shape, Xtest.shape, w.shape)\n",
    "mse = mean_squared_error(ytest, y_model)\n",
    "print(\"*** MSE: \", mse)\n",
    "\n",
    "#compare labels\n",
    "plt.scatter(ytest, y_model)\n",
    "plt.xlabel(\"Truth\")\n",
    "plt.ylabel(\"Predicted\")\n",
    "plt.title(\"Boston Housing True vs Predicted prices\")"
   ]
  },
  {
   "cell_type": "markdown",
   "metadata": {
    "slideshow": {
     "slide_type": "slide"
    }
   },
   "source": [
    "## Bias\n",
    "\n",
    "## ME: mention as future work? lab assignment?\n",
    "\n",
    "We set fit_intercept to false for the multi-feature implementation. \n",
    "\n",
    "How can we include it in our implementation? "
   ]
  },
  {
   "cell_type": "markdown",
   "metadata": {
    "slideshow": {
     "slide_type": "slide"
    }
   },
   "source": [
    "### Hint\n",
    "\n",
    "Our hypothesis function is\n",
    "\n",
    "$E_l = \\sum_{i=1}^n (y_i - (wx_i + b))^2$\n",
    "\n",
    "Let $b$ be another weight: $w_0$\n",
    "\n",
    "$\\begin{align}\n",
    "h(x) &= \\sum_{i=1}^n wx_i + w_0 \\\\\n",
    "&= w_0 + w_1x_1 + w_2x_2 + \\ldots + w_mx_m\n",
    "\\end{align}$\n"
   ]
  },
  {
   "cell_type": "markdown",
   "metadata": {
    "slideshow": {
     "slide_type": "slide"
    }
   },
   "source": [
    "## Can we classify? \n",
    "\n",
    "Yes!"
   ]
  },
  {
   "cell_type": "markdown",
   "metadata": {
    "slideshow": {
     "slide_type": "slide"
    }
   },
   "source": [
    "## Summary \n",
    "\n",
    "We have discussed:\n",
    "\n",
    "- cost function design\n",
    "- hypothesis function for linear regression\n",
    "- using partial derivatives to min the cost function\n",
    "- linear regression implementation"
   ]
  },
  {
   "cell_type": "markdown",
   "metadata": {
    "slideshow": {
     "slide_type": "slide"
    }
   },
   "source": [
    "### Next time\n",
    "Most ML/AI algorithms rely on computing the cost function, $J(u)$ and its gradient, $\\nabla_uJ(u)$ for any possible $u$.\n",
    "\n",
    "Since the gradiet points us in the direction of the steepest increase, this makes sense. \n",
    "\n",
    "Next, we will discuss how we can use **gradient descent algorithm to minimize differentiable cost funtions**. "
   ]
  },
  {
   "cell_type": "code",
   "execution_count": null,
   "metadata": {},
   "outputs": [],
   "source": []
  }
 ],
 "metadata": {
  "celltoolbar": "Slideshow",
  "kernelspec": {
   "display_name": "Python 3",
   "language": "python",
   "name": "python3"
  },
  "language_info": {
   "codemirror_mode": {
    "name": "ipython",
    "version": 3
   },
   "file_extension": ".py",
   "mimetype": "text/x-python",
   "name": "python",
   "nbconvert_exporter": "python",
   "pygments_lexer": "ipython3",
   "version": "3.6.0"
  }
 },
 "nbformat": 4,
 "nbformat_minor": 2
}
